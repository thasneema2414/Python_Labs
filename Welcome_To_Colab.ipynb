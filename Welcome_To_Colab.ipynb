{
  "cells": [
    {
      "cell_type": "markdown",
      "metadata": {
        "id": "view-in-github",
        "colab_type": "text"
      },
      "source": [
        "<a href=\"https://colab.research.google.com/github/thasneema2414/Python_Labs/blob/main/Welcome_To_Colab.ipynb\" target=\"_parent\"><img src=\"https://colab.research.google.com/assets/colab-badge.svg\" alt=\"Open In Colab\"/></a>"
      ]
    },
    {
      "cell_type": "markdown",
      "source": [
        "ARRAY in Python"
      ],
      "metadata": {
        "id": "rumZ8AeFzdqN"
      }
    },
    {
      "cell_type": "markdown",
      "source": [
        "CREATING AN INTEGER ARRAY"
      ],
      "metadata": {
        "id": "nwC4Uqv4zkc_"
      }
    },
    {
      "cell_type": "code",
      "source": [
        "# CREATING AN INTEGER ARRAY\n",
        "\n",
        "import array\n",
        "\n",
        "arr = array.array('i', [1, 2, 3, 4, 5, 6, 7, 8])\n",
        "\n",
        "arr"
      ],
      "metadata": {
        "id": "4-Vl-lz9zdBm",
        "outputId": "0eadce65-6ae8-42f0-a20f-8f127d4b3b5f",
        "colab": {
          "base_uri": "https://localhost:8080/"
        }
      },
      "execution_count": 27,
      "outputs": [
        {
          "output_type": "execute_result",
          "data": {
            "text/plain": [
              "array('i', [1, 2, 3, 4, 5, 6, 7, 8])"
            ]
          },
          "metadata": {},
          "execution_count": 27
        }
      ]
    },
    {
      "cell_type": "code",
      "source": [
        "type(arr)"
      ],
      "metadata": {
        "id": "gbHsFLU2wXpf",
        "outputId": "a08ea452-330d-4bb6-9372-0991cfa873c0",
        "colab": {
          "base_uri": "https://localhost:8080/"
        }
      },
      "execution_count": 2,
      "outputs": [
        {
          "output_type": "execute_result",
          "data": {
            "text/plain": [
              "array.array"
            ]
          },
          "metadata": {},
          "execution_count": 2
        }
      ]
    },
    {
      "cell_type": "markdown",
      "source": [
        "OPERATIONS ON ARRAY"
      ],
      "metadata": {
        "id": "wq8Usmnlw9h2"
      }
    },
    {
      "cell_type": "code",
      "source": [
        "# ACCESSING THE ARRAY ELEMENTS & SLICING\n",
        "print(arr)\n",
        "print(arr[0])\n",
        "print(arr[1:5])\n",
        "print(arr[-1])\n",
        "print(arr[0:5])"
      ],
      "metadata": {
        "id": "kqULFLvdw-Yy",
        "outputId": "6ad1a08e-b518-4bbc-ac77-31708fe3c71a",
        "colab": {
          "base_uri": "https://localhost:8080/"
        }
      },
      "execution_count": 5,
      "outputs": [
        {
          "output_type": "stream",
          "name": "stdout",
          "text": [
            "array('i', [1, 2, 3, 4, 5, 6, 7, 8])\n",
            "1\n",
            "array('i', [2, 3, 4, 5])\n",
            "8\n",
            "array('i', [1, 2, 3, 4, 5])\n"
          ]
        }
      ]
    },
    {
      "cell_type": "markdown",
      "source": [
        "MODIFYING ARRAY"
      ],
      "metadata": {
        "id": "TrlhknNtxJcv"
      }
    },
    {
      "cell_type": "code",
      "source": [
        "# 1. ADD ELEMENT AT LAST\n",
        "print(arr)\n",
        "arr.append(10)\n",
        "print(\"modified array: \", arr)"
      ],
      "metadata": {
        "id": "-4kNw1SuxJ_e",
        "outputId": "be4afdc7-87f6-49f3-d702-42aa21a864e5",
        "colab": {
          "base_uri": "https://localhost:8080/"
        }
      },
      "execution_count": 6,
      "outputs": [
        {
          "output_type": "stream",
          "name": "stdout",
          "text": [
            "array('i', [1, 2, 3, 4, 5, 6, 7, 8])\n",
            "modified array:  array('i', [1, 2, 3, 4, 5, 6, 7, 8, 10])\n"
          ]
        }
      ]
    },
    {
      "cell_type": "code",
      "source": [
        "# 2. INSERT ELEMENT TO ANY POSITION\n",
        "print(arr)\n",
        "arr.insert(4, 100)\n",
        "print(\"modified array: \", arr)"
      ],
      "metadata": {
        "id": "ysigmbTQxNhE",
        "outputId": "852583bf-53ef-468a-a77e-18239a587479",
        "colab": {
          "base_uri": "https://localhost:8080/"
        }
      },
      "execution_count": 7,
      "outputs": [
        {
          "output_type": "stream",
          "name": "stdout",
          "text": [
            "array('i', [1, 2, 3, 4, 5, 6, 7, 8, 10])\n",
            "modified array:  array('i', [1, 2, 3, 4, 100, 5, 6, 7, 8, 10])\n"
          ]
        }
      ]
    },
    {
      "cell_type": "code",
      "source": [
        "# 3. ADDING MULTIPLE ELEMENTS TO ARRAY\n",
        "print(arr)\n",
        "arr.extend([11, 12, 13, 14])\n",
        "print(\"Array modified: \", arr)"
      ],
      "metadata": {
        "id": "ibJhIfI6xQYh",
        "outputId": "c112174d-781e-4181-89e9-891376370b4e",
        "colab": {
          "base_uri": "https://localhost:8080/"
        }
      },
      "execution_count": 8,
      "outputs": [
        {
          "output_type": "stream",
          "name": "stdout",
          "text": [
            "array('i', [1, 2, 3, 4, 100, 5, 6, 7, 8, 10])\n",
            "Array modified:  array('i', [1, 2, 3, 4, 100, 5, 6, 7, 8, 10, 11, 12, 13, 14])\n"
          ]
        }
      ]
    },
    {
      "cell_type": "markdown",
      "source": [
        "Finding position of an element"
      ],
      "metadata": {
        "id": "Zw7XAbH-xXE2"
      }
    },
    {
      "cell_type": "code",
      "source": [
        "print(arr.index(100))\n",
        "print(arr.index(10))"
      ],
      "metadata": {
        "id": "gSoUX-0sxTgu",
        "outputId": "91ab7122-d4e6-464b-f6f3-81857f09ce69",
        "colab": {
          "base_uri": "https://localhost:8080/"
        }
      },
      "execution_count": 9,
      "outputs": [
        {
          "output_type": "stream",
          "name": "stdout",
          "text": [
            "4\n",
            "9\n"
          ]
        }
      ]
    },
    {
      "cell_type": "markdown",
      "source": [
        "REMOVING ELEMENTS FROM THE ARRAY"
      ],
      "metadata": {
        "id": "sNpYhlzjxcOW"
      }
    },
    {
      "cell_type": "code",
      "source": [
        "# 1. REMOVE()  Will remove the element from its first occurrence\n",
        "print(arr)\n",
        "arr.remove(6)\n",
        "print(\"array after the removal: \", arr)"
      ],
      "metadata": {
        "id": "nifOTZtxxZ_4",
        "outputId": "db539c8e-565d-426e-f1dc-a747fea628fc",
        "colab": {
          "base_uri": "https://localhost:8080/"
        }
      },
      "execution_count": 12,
      "outputs": [
        {
          "output_type": "stream",
          "name": "stdout",
          "text": [
            "array('i', [1, 2, 3, 4, 5, 6, 7, 8, 10, 11, 12, 13, 14])\n",
            "array after the removal:  array('i', [1, 2, 3, 4, 5, 7, 8, 10, 11, 12, 13, 14])\n"
          ]
        }
      ]
    },
    {
      "cell_type": "code",
      "source": [
        "# 2. POP()  Will remove one element from its end\n",
        "print(arr)\n",
        "arr.pop()\n",
        "print(\"Array after removing last element: \", arr)\n",
        "arr.pop(0)\n",
        "print(\"Array after removing 0th element: \", arr)\n"
      ],
      "metadata": {
        "id": "YzAh0QjHxfFS",
        "outputId": "52efe3e7-e7c8-404a-a8e1-dd71769a3eb3",
        "colab": {
          "base_uri": "https://localhost:8080/"
        }
      },
      "execution_count": 13,
      "outputs": [
        {
          "output_type": "stream",
          "name": "stdout",
          "text": [
            "array('i', [1, 2, 3, 4, 5, 7, 8, 10, 11, 12, 13, 14])\n",
            "Array after removing last element:  array('i', [1, 2, 3, 4, 5, 7, 8, 10, 11, 12, 13])\n",
            "Array after removing 0th element:  array('i', [2, 3, 4, 5, 7, 8, 10, 11, 12, 13])\n"
          ]
        }
      ]
    },
    {
      "cell_type": "markdown",
      "source": [
        "CREATE ARRAY OF DOUBLE TYPE"
      ],
      "metadata": {
        "id": "trULWYz1yFN-"
      }
    },
    {
      "cell_type": "code",
      "source": [
        "arr = array.array('d', [2.3, 2.4, 2.5, 2.6])\n",
        "print(arr)\n",
        "print()\n",
        "for i in range(0, 4):\n",
        "  print(arr[i], end =\" \")"
      ],
      "metadata": {
        "id": "BRvNqln1x1m7",
        "outputId": "d5fad3ae-e389-4284-cac6-a5dc029e244c",
        "colab": {
          "base_uri": "https://localhost:8080/"
        }
      },
      "execution_count": 17,
      "outputs": [
        {
          "output_type": "stream",
          "name": "stdout",
          "text": [
            "array('d', [2.3, 2.4, 2.5, 2.6])\n",
            "\n",
            "2.3 2.4 2.5 2.6 "
          ]
        }
      ]
    },
    {
      "cell_type": "code",
      "source": [],
      "metadata": {
        "id": "5KoVbLObyx45"
      },
      "execution_count": null,
      "outputs": []
    }
  ],
  "metadata": {
    "colab": {
      "name": "Welcome To Colab",
      "toc_visible": true,
      "provenance": [],
      "include_colab_link": true
    },
    "kernelspec": {
      "display_name": "Python 3",
      "name": "python3"
    }
  },
  "nbformat": 4,
  "nbformat_minor": 0
}